{
 "cells": [
  {
   "cell_type": "code",
   "execution_count": null,
   "id": "bf459aa4",
   "metadata": {},
   "outputs": [],
   "source": [
    "import pandas as pd\n",
    "import sqlite3\n",
    "import random\n",
    "from sqlite3 import Error\n",
    "import hashlib"
   ]
  },
  {
   "cell_type": "code",
   "execution_count": null,
   "id": "872d5d24",
   "metadata": {},
   "outputs": [],
   "source": [
    "sales = pd.read_excel('AW_Sales_task.xlsx')"
   ]
  },
  {
   "cell_type": "code",
   "execution_count": null,
   "id": "5b19255c",
   "metadata": {},
   "outputs": [],
   "source": [
    "pd.to_datetime(sales['OrderDate'])"
   ]
  },
  {
   "cell_type": "code",
   "execution_count": null,
   "id": "18713411",
   "metadata": {},
   "outputs": [],
   "source": [
    "sales.info()"
   ]
  },
  {
   "cell_type": "code",
   "execution_count": null,
   "id": "e542c480",
   "metadata": {},
   "outputs": [],
   "source": [
    "sales.head()"
   ]
  },
  {
   "cell_type": "code",
   "execution_count": null,
   "id": "ce9ae8ff",
   "metadata": {},
   "outputs": [],
   "source": [
    "sales.columns"
   ]
  },
  {
   "cell_type": "code",
   "execution_count": null,
   "id": "59a4abff",
   "metadata": {},
   "outputs": [],
   "source": [
    "#rename columns for match to exercise :\n",
    "sales['Province'] = sales['Territory']\n",
    "sales['ProvinceID'] = sales['TerritoryID']\n",
    "sales['AgentID'] = sales['SalesPersonID']\n",
    "sales['Agency'] = sales['TerritoryGroup']\n",
    "sales['CustomerName'] = sales['CustomerID']"
   ]
  },
  {
   "cell_type": "code",
   "execution_count": null,
   "id": "3ea444f3",
   "metadata": {},
   "outputs": [],
   "source": []
  },
  {
   "cell_type": "code",
   "execution_count": null,
   "id": "a645f324",
   "metadata": {},
   "outputs": [],
   "source": [
    "sales.to_csv('sales_1')"
   ]
  },
  {
   "cell_type": "code",
   "execution_count": null,
   "id": "6368a03d",
   "metadata": {},
   "outputs": [],
   "source": [
    "discount_codes = ['DISC10', 'DISC20', 'NONE', None]"
   ]
  },
  {
   "cell_type": "code",
   "execution_count": null,
   "id": "78ed3ab5",
   "metadata": {},
   "outputs": [],
   "source": [
    "def hash_customer_id(customer_id):\n",
    "    return int(hashlib.sha256(str(customer_id).encode('utf-8')).hexdigest(), 16)"
   ]
  },
  {
   "cell_type": "code",
   "execution_count": null,
   "id": "9265bc40",
   "metadata": {},
   "outputs": [],
   "source": [
    "def generate_customer_name(customer_id):\n",
    "    # Lists of potential first and last names\n",
    "    first_names = ['John', 'Jane', 'Chris', 'Kathy', 'Mike', 'Nancy', 'Alex', 'Mary', 'Steve', 'Linda']\n",
    "    last_names = ['Smith', 'Johnson', 'Williams', 'Jones', 'Brown', 'Davis', 'Miller', 'Wilson', 'Moore', 'Taylor']\n",
    "    \n",
    "    # Seed the random number generator with a hash of the customer ID\n",
    "    seed = hash_customer_id(customer_id)\n",
    "    random.seed(seed)\n",
    "    \n",
    "    # Generate a random first name and last name\n",
    "    first_name = random.choice(first_names)\n",
    "    last_name = random.choice(last_names)\n",
    "    \n",
    "    # Return the combined name\n",
    "    return f\"{first_name} {last_name}\""
   ]
  },
  {
   "cell_type": "code",
   "execution_count": null,
   "id": "805f2ea0",
   "metadata": {},
   "outputs": [],
   "source": [
    "unique_customer_ids = sales['CustomerID'].unique()\n",
    "\n",
    "# Generate a name for each unique customer ID\n",
    "customer_names = {customer_id: generate_customer_name(customer_id) for customer_id in unique_customer_ids}\n",
    "\n",
    "# Map the generated names back to the DataFrame\n",
    "sales['CustomerName'] = sales['CustomerID'].map(customer_names)"
   ]
  },
  {
   "cell_type": "code",
   "execution_count": null,
   "id": "ed040f5b",
   "metadata": {},
   "outputs": [],
   "source": [
    "def create_connection(db_file):\n",
    "    \"\"\" create a database connection to a SQLite database \"\"\"\n",
    "    conn = None\n",
    "    try:\n",
    "        conn = sqlite3.connect(db_file)\n",
    "        print(sqlite3.version)\n",
    "    except Error as e:\n",
    "        print(e)\n",
    "    finally:\n",
    "        if conn:\n",
    "            conn.close()\n",
    "\n",
    "def execute_sql(conn, sql, data=None):\n",
    "    \"\"\" Execute SQL statement \"\"\"\n",
    "    try:\n",
    "        c = conn.cursor()\n",
    "        if data is not None:\n",
    "            c.execute(sql, data)\n",
    "        else:\n",
    "            c.execute(sql)\n",
    "        conn.commit()\n",
    "        \n",
    "    except Error as e:\n",
    "        print(e)\n",
    "\n",
    "if __name__ == '__main__':\n",
    "    database = \"strasport_2.db\"\n",
    "    \n",
    "    sql_create_globalTabel = \"\"\"CREATE TABLE IF NOT EXISTS SalesData (\n",
    "    ID INTEGER PRIMARY KEY,\n",
    "    OrderDetailID INTEGER,\n",
    "    OrderDate TEXT,\n",
    "    DueDate TEXT,\n",
    "    ShipDate TEXT,\n",
    "    StatusID INTEGER,\n",
    "    Status TEXT,\n",
    "    CustomerID INTEGER,\n",
    "    SalesPersonID INTEGER,\n",
    "    TerritoryID INTEGER,\n",
    "    Territory TEXT,\n",
    "    TerritoryGroup TEXT,\n",
    "    ShipMethodID INTEGER,\n",
    "    ShipMethod TEXT,\n",
    "    ProductID INTEGER,\n",
    "    Product TEXT,\n",
    "    ProductSubCategory TEXT,\n",
    "    ProductCategory TEXT,\n",
    "    OrderQty INTEGER,\n",
    "    UnitPrice REAL,\n",
    "    LineTotal REAL,\n",
    "    TaxAmt REAL,\n",
    "    TotalDue REAL,\n",
    "    Province TEXT,\n",
    "    ProvinceID INTEGER,\n",
    "    AgentID INTEGER,\n",
    "    Agency TEXT,\n",
    "    CustomerName TEXT\n",
    ");\"\"\"\n",
    "\n",
    "    sql_create_store_table = \"\"\" CREATE TABLE IF NOT EXISTS Store (\n",
    "                                        TerritoryID INTEGER PRIMARY KEY,\n",
    "                                        Territory TEXT NOT NULL,\n",
    "                                        TerritoryGroup TEXT NOT NULL\n",
    "                                    ); \"\"\"\n",
    "\n",
    "    sql_create_client_table = \"\"\"CREATE TABLE IF NOT EXISTS Client (\n",
    "                                    ClientID INTEGER PRIMARY KEY,\n",
    "                                    ClientName TEXT NOT NULL\n",
    "                                );\"\"\"\n",
    "\n",
    "    sql_create_product_table = \"\"\"CREATE TABLE IF NOT EXISTS Product (\n",
    "                                    ProductID INTEGER PRIMARY KEY,\n",
    "                                    ProductType TEXT NOT NULL\n",
    "                                );\"\"\"\n",
    "\n",
    "    sql_create_transactions_table = \"\"\" CREATE TABLE IF NOT EXISTS Transactions (\n",
    "                                        TransactionID INTEGER PRIMARY KEY,\n",
    "                                        StoreID INTEGER NOT NULL,\n",
    "                                        ClientID INTEGER NOT NULL,\n",
    "                                        ProductID INTEGER NOT NULL,\n",
    "                                        TransactionDate INTEGER,\n",
    "                                        QuantitySold INTEGER NOT NULL,\n",
    "                                        DiscountCode TEXT,\n",
    "                                        FOREIGN KEY (StoreID) REFERENCES Store(TerritoryID),\n",
    "                                        FOREIGN KEY (ClientID) REFERENCES Client (ClientID),\n",
    "                                        FOREIGN KEY (ProductID) REFERENCES Product (ProductID),\n",
    "                                        FOREIGN KEY (TransactionDate) REFERENCES DimTime(DateKey)\n",
    "\n",
    "                                    ); \"\"\"\n",
    "    \n",
    "    sql_create_DimensionTable = \"\"\" CREATE TABLE DimTime (\n",
    "                                    DateKey INTEGER PRIMARY KEY,\n",
    "                                    Day INTEGER,\n",
    "                                    Month INTEGER,\n",
    "                                    Quarter INTEGER,\n",
    "                                    Semester INTEGER,\n",
    "                                    Year INTEGER\n",
    "                                ); \"\"\"\n",
    "    \n",
    "\n",
    "    sql_Fqct_trunover = \"\"\"CREATE TABLE FactTurnover (\n",
    "    TurnoverID INTEGER PRIMARY KEY,\n",
    "    DateKey INTEGER,\n",
    "    StoreID INTEGER,\n",
    "    ClientID INTEGER,\n",
    "    AmountBilled DECIMAL,\n",
    "    QuantityInvoiced INTEGER,\n",
    "    DiscountValue DECIMAL,\n",
    "    FOREIGN KEY (DateKey) REFERENCES DimTime(DateKey),\n",
    "    FOREIGN KEY (StoreID) REFERENCES Store(TerritoryID),\n",
    "    FOREIGN KEY (ClientID) REFERENCES Client ( ClientID)\n",
    ");\"\"\"\n",
    "\n",
    "    \n",
    "    conn = sqlite3.connect(database)\n",
    "\n",
    "   \n",
    "    if conn is not None:\n",
    "        execute_sql(conn, sql_create_store_table)\n",
    "        execute_sql(conn, sql_create_client_table)\n",
    "        execute_sql(conn, sql_create_product_table)\n",
    "        execute_sql(conn, sql_create_transactions_table)\n",
    "        execute_sql(conn, sql_create_DimensionTable)\n",
    "        execute_sql(conn, sql_Fqct_trunover)\n",
    "        \n",
    "    else:\n",
    "        print(\"Error! cannot create the database connection.\")\n"
   ]
  },
  {
   "cell_type": "code",
   "execution_count": null,
   "id": "3eb3b075",
   "metadata": {},
   "outputs": [],
   "source": [
    "#insert all the data in raw inside the database, but need to chunk it becasue too much lines\n",
    "def insert_in_chunks(dataframe, chunk_size=100):\n",
    "    for start_row in range(0, dataframe.shape[0], chunk_size):\n",
    "        end_row = start_row + chunk_size\n",
    "        chunk = dataframe[start_row:end_row]\n",
    "        chunk.to_sql('SalesData', conn, if_exists='append', index=False, method=None)\n",
    "\n",
    "\n",
    "insert_in_chunks(sales, 100)"
   ]
  },
  {
   "cell_type": "code",
   "execution_count": null,
   "id": "b42a71b5",
   "metadata": {},
   "outputs": [],
   "source": [
    "#create def for insert data inside the table \n",
    "def insert_stores(conn, store):\n",
    "    \n",
    "    sql = ''' INSERT INTO Store(TerritoryID, Territory, TerritoryGroup)\n",
    "              VALUES(?,?,?) '''\n",
    "    execute_sql(conn, sql, store)\n",
    "    \n",
    "\n",
    "def insert_client(conn, client):\n",
    "   \n",
    "    sql = ''' INSERT INTO Client(ClientID, ClientName)\n",
    "              VALUES(?,?) '''\n",
    "    execute_sql(conn, sql, client)\n",
    "\n",
    "def insert_product(conn, product):\n",
    "    \n",
    "    sql = ''' INSERT INTO Product(ProductID, ProductType)\n",
    "              VALUES(?,?) '''\n",
    "    execute_sql(conn, sql, product)\n",
    "\n",
    "def insert_transaction(conn, transaction):\n",
    "    \n",
    "    sql = ''' INSERT INTO Transactions(TransactionID, StoreID, ClientID, ProductID, TransactionDate, QuantitySold, DiscountCode)\n",
    "              VALUES(?,?,?,?,?,?,?) '''\n",
    "    execute_sql(conn, sql, transaction)\n"
   ]
  },
  {
   "cell_type": "code",
   "execution_count": null,
   "id": "a5407e3d",
   "metadata": {},
   "outputs": [],
   "source": [
    "unique_clients = sales[['CustomerID', 'CustomerName']].drop_duplicates()\n",
    "for _, row in unique_clients.iterrows():\n",
    "    insert_client(conn, (row['CustomerID'], row['CustomerName']))\n"
   ]
  },
  {
   "cell_type": "code",
   "execution_count": null,
   "id": "ee4cd1dc",
   "metadata": {},
   "outputs": [],
   "source": [
    "for _, row in sales.iterrows():\n",
    "    stores = (row['TerritoryID'], row['Territory'],row['TerritoryGroup'])\n",
    "    insert_stores(conn, stores)"
   ]
  },
  {
   "cell_type": "code",
   "execution_count": null,
   "id": "acc0bf01",
   "metadata": {},
   "outputs": [],
   "source": [
    "unique_products = sales[['ProductID', 'ProductSubCategory']].drop_duplicates()\n",
    "for _, row in unique_products.iterrows():\n",
    "    insert_product(conn, (row['ProductID'], row['ProductSubCategory']))\n"
   ]
  },
  {
   "cell_type": "code",
   "execution_count": null,
   "id": "d5573f2c",
   "metadata": {},
   "outputs": [],
   "source": [
    "sales['OrderDate'] = pd.to_datetime(sales['OrderDate'])\n",
    "\n",
    "for _, row in sales.iterrows():\n",
    "   \n",
    "    order_date_str = row['OrderDate'].strftime('%Y-%m-%d %H:%M:%S')\n",
    "    \n",
    "    transaction = (\n",
    "        row['OrderDetailID'],  \n",
    "        row['AgentID'],       \n",
    "        row['CustomerID'],\n",
    "        row['ProductID'],\n",
    "        order_date_str,       \n",
    "        row['OrderQty'],       \n",
    "        row.get('DiscountCode', None) \n",
    "    )\n",
    "    insert_transaction(conn, transaction)\n"
   ]
  },
  {
   "cell_type": "code",
   "execution_count": null,
   "id": "5c5738fb",
   "metadata": {},
   "outputs": [],
   "source": []
  },
  {
   "cell_type": "code",
   "execution_count": null,
   "id": "300d9b74",
   "metadata": {},
   "outputs": [],
   "source": [
    "sales.columns"
   ]
  },
  {
   "cell_type": "code",
   "execution_count": null,
   "id": "0144ef93",
   "metadata": {},
   "outputs": [],
   "source": [
    "if conn:\n",
    "    conn.close()"
   ]
  }
 ],
 "metadata": {
  "kernelspec": {
   "display_name": "Python 3 (ipykernel)",
   "language": "python",
   "name": "python3"
  },
  "language_info": {
   "codemirror_mode": {
    "name": "ipython",
    "version": 3
   },
   "file_extension": ".py",
   "mimetype": "text/x-python",
   "name": "python",
   "nbconvert_exporter": "python",
   "pygments_lexer": "ipython3",
   "version": "3.11.5"
  }
 },
 "nbformat": 4,
 "nbformat_minor": 5
}
